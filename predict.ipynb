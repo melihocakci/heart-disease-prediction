{
 "cells": [
  {
   "cell_type": "code",
   "execution_count": 6,
   "metadata": {},
   "outputs": [],
   "source": [
    "import pandas as pd # for data manipulation\n",
    "import numpy as np\n",
    "\n",
    "from sklearn.model_selection import train_test_split # for splitting the data into train and test samples\n",
    "from sklearn.metrics import classification_report, confusion_matrix # for model evaluation metrics\n",
    "from sklearn.preprocessing import OrdinalEncoder # for encoding categorical features from strings to number arrays\n",
    "from sklearn.preprocessing import LabelEncoder\n",
    "\n",
    "import plotly.express as px  # for data visualization\n",
    "import plotly.graph_objects as go # for data visualization\n",
    "\n",
    "import matplotlib.pyplot as plt\n",
    "\n",
    "# Differnt types of Naive Bayes Classifiers\n",
    "from sklearn.naive_bayes import GaussianNB\n",
    "from sklearn.naive_bayes import CategoricalNB\n",
    "from sklearn.naive_bayes import BernoulliNB\n",
    "from sklearn.naive_bayes import MultinomialNB\n",
    "from sklearn.tree import DecisionTreeClassifier\n",
    "from sklearn.ensemble import RandomForestClassifier"
   ]
  },
  {
   "cell_type": "code",
   "execution_count": 7,
   "metadata": {},
   "outputs": [],
   "source": [
    "df = pd.read_csv('heart_2020_cleaned.csv')\n",
    "\n",
    "df['BMI'] = pd.qcut(df['BMI'], 5, duplicates='drop')\n",
    "df['PhysicalHealth'] = pd.qcut(df['PhysicalHealth'], 5, duplicates='drop')\n",
    "df['MentalHealth'] = pd.qcut(df['MentalHealth'], 5, duplicates='drop')\n",
    "df['SleepTime'] = pd.qcut(df['SleepTime'], 5, duplicates='drop')\n",
    "\n",
    "y = df['HeartDisease']\n",
    "x = df.drop('HeartDisease', axis=1)\n",
    "\n",
    "enc = LabelEncoder()\n",
    "y = enc.fit_transform(y)\n",
    "\n",
    "enc = OrdinalEncoder()\n",
    "x = enc.fit_transform(x)\n",
    "\n",
    "x_train, x_test, y_train, y_test = train_test_split(x, y, test_size=0.15)"
   ]
  },
  {
   "cell_type": "code",
   "execution_count": 8,
   "metadata": {},
   "outputs": [],
   "source": [
    "model = CategoricalNB()\n",
    "\n",
    "model.fit(x_train, y_train)\n",
    "\n",
    "y_pred = model.predict(x_test)"
   ]
  },
  {
   "cell_type": "code",
   "execution_count": 9,
   "metadata": {},
   "outputs": [
    {
     "name": "stdout",
     "output_type": "stream",
     "text": [
      "Model:  CategoricalNB()\n",
      "--------------------------------------------------------\n",
      "Classification Report:\n",
      "\n",
      "               precision    recall  f1-score   support\n",
      "\n",
      "          No       0.94      0.92      0.93     43876\n",
      "         Yes       0.33      0.41      0.37      4094\n",
      "\n",
      "    accuracy                           0.88     47970\n",
      "   macro avg       0.64      0.67      0.65     47970\n",
      "weighted avg       0.89      0.88      0.88     47970\n",
      "\n",
      "--------------------------------------------------------\n",
      "Confusion Matrix:\n",
      "\n",
      " [[40418  3458]\n",
      " [ 2408  1686]]\n"
     ]
    }
   ],
   "source": [
    "report = classification_report(y_test, y_pred, target_names=['No','Yes']);\n",
    "\n",
    "print(\"Model: \", model)\n",
    "print('--------------------------------------------------------')\n",
    "print('Classification Report:\\n\\n', report)\n",
    "print('--------------------------------------------------------')\n",
    "print('Confusion Matrix:\\n\\n', confusion_matrix(y_test, y_pred))"
   ]
  }
 ],
 "metadata": {
  "interpreter": {
   "hash": "31114ee4c0a5c1652c3f229edfa0c825ea27b625704175c6f57d7152219a4654"
  },
  "kernelspec": {
   "display_name": "Python 3.10.4 64-bit",
   "language": "python",
   "name": "python3"
  },
  "language_info": {
   "codemirror_mode": {
    "name": "ipython",
    "version": 3
   },
   "file_extension": ".py",
   "mimetype": "text/x-python",
   "name": "python",
   "nbconvert_exporter": "python",
   "pygments_lexer": "ipython3",
   "version": "3.10.4"
  },
  "orig_nbformat": 4
 },
 "nbformat": 4,
 "nbformat_minor": 2
}
