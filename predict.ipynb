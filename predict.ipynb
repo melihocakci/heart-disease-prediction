{
 "cells": [
  {
   "cell_type": "code",
   "execution_count": 23,
   "metadata": {},
   "outputs": [],
   "source": [
    "import pandas as pd # for data manipulation\n",
    "import numpy as np\n",
    "import seaborn as sn\n",
    "\n",
    "from sklearn.model_selection import train_test_split\n",
    "from sklearn.metrics import classification_report, confusion_matrix\n",
    "from sklearn.preprocessing import OrdinalEncoder, LabelEncoder\n",
    "\n",
    "import matplotlib.pyplot as plt\n",
    "\n",
    "# Differnt types of Naive Bayes Classifiers\n",
    "from sklearn.naive_bayes import CategoricalNB\n",
    "from sklearn.tree import DecisionTreeClassifier\n",
    "from sklearn.ensemble import RandomForestClassifier\n",
    "from sklearn.neighbors import KNeighborsClassifier"
   ]
  },
  {
   "cell_type": "code",
   "execution_count": 24,
   "metadata": {},
   "outputs": [
    {
     "name": "stdout",
     "output_type": "stream",
     "text": [
      "     BMI  PhysicalHealth  MentalHealth  SleepTime\n",
      "0  16.60             3.0          30.0        5.0\n",
      "1  20.34             0.0           0.0        7.0\n",
      "2  26.58            20.0          30.0        8.0\n",
      "3  24.21             0.0           0.0        6.0\n",
      "4  23.71            28.0           0.0        8.0\n",
      "               BMI PhysicalHealth   MentalHealth     SleepTime\n",
      "0  (12.019, 22.74]     (1.0, 3.0]   (17.0, 30.0]  (0.999, 5.0]\n",
      "1  (12.019, 22.74]  (-0.001, 1.0]  (-0.001, 1.0]    (6.0, 7.0]\n",
      "2   (25.09, 27.34]    (7.0, 25.0]   (17.0, 30.0]    (7.0, 8.0]\n",
      "3   (22.74, 25.09]  (-0.001, 1.0]  (-0.001, 1.0]    (5.0, 6.0]\n",
      "4   (22.74, 25.09]   (25.0, 30.0]  (-0.001, 1.0]    (7.0, 8.0]\n"
     ]
    }
   ],
   "source": [
    "df = pd.read_csv('heart_2020_cleaned.csv')\n",
    "\n",
    "print(df[['BMI', 'PhysicalHealth', 'MentalHealth', 'SleepTime']].head())\n",
    "\n",
    "df['BMI'] = pd.qcut(df['BMI'], 6, duplicates='drop')\n",
    "df['PhysicalHealth'] = pd.qcut(df['PhysicalHealth'], 15, duplicates='drop')\n",
    "df['MentalHealth'] = pd.qcut(df['MentalHealth'], 12, duplicates='drop')\n",
    "df['SleepTime'] = pd.qcut(df['SleepTime'], 12, duplicates='drop')\n",
    "\n",
    "print(df[['BMI', 'PhysicalHealth', 'MentalHealth', 'SleepTime']].head())"
   ]
  },
  {
   "cell_type": "code",
   "execution_count": 25,
   "metadata": {},
   "outputs": [
    {
     "name": "stdout",
     "output_type": "stream",
     "text": [
      "               BMI Smoking AlcoholDrinking Stroke\n",
      "0  (12.019, 22.74]     Yes              No     No\n",
      "1  (12.019, 22.74]      No              No    Yes\n",
      "2   (25.09, 27.34]     Yes              No     No\n",
      "3   (22.74, 25.09]      No              No     No\n",
      "4   (22.74, 25.09]      No              No     No\n",
      "[0. 1. 0. 0.]\n",
      "[0. 0. 0. 1.]\n",
      "[2. 1. 0. 0.]\n",
      "[1. 0. 0. 0.]\n",
      "[1. 0. 0. 0.]\n"
     ]
    }
   ],
   "source": [
    "y = df['HeartDisease']\n",
    "x = df.drop('HeartDisease', axis=1)\n",
    "\n",
    "print(x[['BMI','Smoking','AlcoholDrinking','Stroke']].head())\n",
    "\n",
    "enc = LabelEncoder()\n",
    "y = enc.fit_transform(y)\n",
    "\n",
    "enc = OrdinalEncoder()\n",
    "x = enc.fit_transform(x)\n",
    "\n",
    "for i in range(5):\n",
    "    print(x[i,[0,1,2,3]])\n",
    "\n",
    "x_train, x_test, y_train, y_test = train_test_split(x, y, test_size=0.15)"
   ]
  },
  {
   "cell_type": "code",
   "execution_count": 26,
   "metadata": {},
   "outputs": [
    {
     "name": "stdout",
     "output_type": "stream",
     "text": [
      "Model:  CategoricalNB()\n",
      "Classification Report:\n",
      "\n",
      "               precision    recall  f1-score   support\n",
      "\n",
      "          No       0.94      0.92      0.93     43904\n",
      "         Yes       0.32      0.41      0.36      4066\n",
      "\n",
      "    accuracy                           0.88     47970\n",
      "   macro avg       0.63      0.67      0.65     47970\n",
      "weighted avg       0.89      0.88      0.88     47970\n",
      "\n"
     ]
    },
    {
     "data": {
      "image/png": "[encoded data removed]",
      "text/plain": [
       "<Figure size 600x400 with 2 Axes>"
      ]
     },
     "metadata": {
      "needs_background": "light"
     },
     "output_type": "display_data"
    }
   ],
   "source": [
    "model = CategoricalNB()\n",
    "\n",
    "model.fit(x_train, y_train)\n",
    "\n",
    "y_pred = model.predict(x_test)\n",
    "\n",
    "report = classification_report(y_test, y_pred, target_names=['No','Yes'], output_dict=True)\n",
    "\n",
    "print(\"Model: \", model)\n",
    "print('Classification Report:\\n\\n', classification_report(y_test, y_pred, target_names=['No','Yes']))\n",
    "\n",
    "mat = confusion_matrix(y_test, y_pred, labels=[1,0], normalize='true')\n",
    "\n",
    "df_cm = pd.DataFrame(mat, index = ['Positive', 'Negative'], columns = ['Positive', 'Negative'])\n",
    "plt.figure(dpi=100)\n",
    "\n",
    "sn.heatmap(df_cm, annot=True)\n",
    "\n",
    "plt.savefig('fig/categorical.png', bbox_inches='tight')\n",
    "plt.show()\n"
   ]
  },
  {
   "cell_type": "code",
   "execution_count": 27,
   "metadata": {},
   "outputs": [
    {
     "name": "stdout",
     "output_type": "stream",
     "text": [
      "Model:  DecisionTreeClassifier()\n",
      "Classification Report:\n",
      "\n",
      "               precision    recall  f1-score   support\n",
      "\n",
      "          No       0.93      0.94      0.93     43904\n",
      "         Yes       0.26      0.23      0.24      4066\n",
      "\n",
      "    accuracy                           0.88     47970\n",
      "   macro avg       0.59      0.58      0.59     47970\n",
      "weighted avg       0.87      0.88      0.88     47970\n",
      "\n"
     ]
    },
    {
     "data": {
      "image/png": "[encoded data removed]",
      "text/plain": [
       "<Figure size 600x400 with 2 Axes>"
      ]
     },
     "metadata": {
      "needs_background": "light"
     },
     "output_type": "display_data"
    }
   ],
   "source": [
    "model = DecisionTreeClassifier()\n",
    "\n",
    "model.fit(x_train, y_train)\n",
    "\n",
    "y_pred = model.predict(x_test)\n",
    "\n",
    "report = classification_report(y_test, y_pred, target_names=['No','Yes'], output_dict=True)\n",
    "\n",
    "print(\"Model: \", model)\n",
    "print('Classification Report:\\n\\n', classification_report(y_test, y_pred, target_names=['No','Yes']))\n",
    "\n",
    "mat = confusion_matrix(y_test, y_pred, labels=[1,0], normalize='true')\n",
    "\n",
    "df_cm = pd.DataFrame(mat, index = ['Positive', 'Negative'], columns = ['Positive', 'Negative'])\n",
    "plt.figure(dpi=100)\n",
    "\n",
    "sn.heatmap(df_cm, annot=True)\n",
    "\n",
    "plt.savefig('fig/categorical.png', bbox_inches='tight')\n",
    "plt.show()\n"
   ]
  },
  {
   "cell_type": "code",
   "execution_count": 29,
   "metadata": {},
   "outputs": [],
   "source": [
    "model = KNeighborsClassifier(3)\n",
    "\n",
    "model.fit(x_train, y_train)\n",
    "\n",
    "y_pred = model.predict(x_test)\n",
    "\n",
    "report = classification_report(y_test, y_pred, target_names=['No','Yes'], output_dict=True)\n",
    "\n",
    "print(\"Model: \", model)\n",
    "print('Classification Report:\\n\\n', classification_report(y_test, y_pred, target_names=['No','Yes']))\n",
    "\n",
    "mat = confusion_matrix(y_test, y_pred, labels=[1,0], normalize='true')\n",
    "\n",
    "df_cm = pd.DataFrame(mat, index = ['Positive', 'Negative'], columns = ['Positive', 'Negative'])\n",
    "plt.figure(dpi=100)\n",
    "\n",
    "sn.heatmap(df_cm, annot=True)\n",
    "\n",
    "plt.savefig('fig/categorical.png', bbox_inches='tight')\n",
    "plt.show()\n"
   ]
  }
 ],
 "metadata": {
  "interpreter": {
   "hash": "31114ee4c0a5c1652c3f229edfa0c825ea27b625704175c6f57d7152219a4654"
  },
  "kernelspec": {
   "display_name": "Python 3.10.4 64-bit",
   "language": "python",
   "name": "python3"
  },
  "language_info": {
   "codemirror_mode": {
    "name": "ipython",
    "version": 3
   },
   "file_extension": ".py",
   "mimetype": "text/x-python",
   "name": "python",
   "nbconvert_exporter": "python",
   "pygments_lexer": "ipython3",
   "version": "3.10.4"
  },
  "orig_nbformat": 4
 },
 "nbformat": 4,
 "nbformat_minor": 2
}
