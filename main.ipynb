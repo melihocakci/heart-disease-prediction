{
 "cells": [
  {
   "cell_type": "code",
   "execution_count": 153,
   "metadata": {},
   "outputs": [],
   "source": [
    "from random import gauss\n",
    "import pandas as pd # for data manipulation\n",
    "import numpy as np\n",
    "\n",
    "from sklearn.model_selection import train_test_split # for splitting the data into train and test samples\n",
    "from sklearn.metrics import classification_report, confusion_matrix # for model evaluation metrics\n",
    "from sklearn.preprocessing import OrdinalEncoder # for encoding categorical features from strings to number arrays\n",
    "from sklearn.preprocessing import LabelEncoder\n",
    "\n",
    "import plotly.express as px  # for data visualization\n",
    "import plotly.graph_objects as go # for data visualization\n",
    "\n",
    "# Differnt types of Naive Bayes Classifiers\n",
    "from sklearn.naive_bayes import GaussianNB\n",
    "from sklearn.naive_bayes import CategoricalNB\n",
    "from sklearn.naive_bayes import BernoulliNB\n",
    "from sklearn.naive_bayes import MultinomialNB\n",
    "from sklearn.tree import DecisionTreeClassifier"
   ]
  },
  {
   "cell_type": "code",
   "execution_count": 154,
   "metadata": {},
   "outputs": [
    {
     "name": "stdout",
     "output_type": "stream",
     "text": [
      "  HeartDisease    BMI Smoking AlcoholDrinking Stroke  PhysicalHealth  \\\n",
      "0           No  16.60     Yes              No     No             3.0   \n",
      "1           No  20.34      No              No    Yes             0.0   \n",
      "2           No  26.58     Yes              No     No            20.0   \n",
      "3           No  24.21      No              No     No             0.0   \n",
      "4           No  23.71      No              No     No            28.0   \n",
      "\n",
      "   MentalHealth DiffWalking     Sex  AgeCategory   Race Diabetic  \\\n",
      "0          30.0          No  Female        55-59  White      Yes   \n",
      "1           0.0          No  Female  80 or older  White       No   \n",
      "2          30.0          No    Male        65-69  White      Yes   \n",
      "3           0.0          No  Female        75-79  White       No   \n",
      "4           0.0         Yes  Female        40-44  White       No   \n",
      "\n",
      "  PhysicalActivity  GenHealth  SleepTime Asthma KidneyDisease SkinCancer  \n",
      "0              Yes  Very good        5.0    Yes            No        Yes  \n",
      "1              Yes  Very good        7.0     No            No         No  \n",
      "2              Yes       Fair        8.0    Yes            No         No  \n",
      "3               No       Good        6.0     No            No        Yes  \n",
      "4              Yes  Very good        8.0     No            No         No  \n"
     ]
    }
   ],
   "source": [
    "df = pd.read_csv('heart_2020_cleaned.csv')"
   ]
  },
  {
   "cell_type": "code",
   "execution_count": 155,
   "metadata": {},
   "outputs": [
    {
     "name": "stdout",
     "output_type": "stream",
     "text": [
      "<bound method IndexOpsMixin.value_counts of 0         (12.019, 23.3]\n",
      "1         (12.019, 23.3]\n",
      "2          (25.84, 28.7]\n",
      "3          (23.3, 25.84]\n",
      "4          (23.3, 25.84]\n",
      "               ...      \n",
      "319790     (25.84, 28.7]\n",
      "319791     (28.7, 32.69]\n",
      "319792     (23.3, 25.84]\n",
      "319793    (32.69, 94.85]\n",
      "319794    (32.69, 94.85]\n",
      "Name: BMI, Length: 319795, dtype: category\n",
      "Categories (5, interval[float64, right]): [(12.019, 23.3] < (23.3, 25.84] < (25.84, 28.7] < (28.7, 32.69] < (32.69, 94.85]]>\n",
      "<bound method IndexOpsMixin.value_counts of 0          No\n",
      "1          No\n",
      "2          No\n",
      "3          No\n",
      "4          No\n",
      "         ... \n",
      "319790    Yes\n",
      "319791     No\n",
      "319792     No\n",
      "319793     No\n",
      "319794     No\n",
      "Name: HeartDisease, Length: 319795, dtype: object>\n"
     ]
    }
   ],
   "source": [
    "df[:,1] = np.digitize(df[:,1], [12,23,26,19,32,94])"
   ]
  },
  {
   "cell_type": "code",
   "execution_count": null,
   "metadata": {},
   "outputs": [],
   "source": [
    "gaussian = df[:,[1,5,6,14]]\n",
    "bernoulli = df[:,[2,3,4,7,8,12,15,16,17]]\n",
    "categorical = df[:,[2,3,4,7,8,9,10,11,12,13,15,16,17]]\n",
    "all = df[:,[1,2,3,4,5,6,7,8,9,10,11,12,13,14,15,16,17]]"
   ]
  },
  {
   "cell_type": "code",
   "execution_count": 156,
   "metadata": {},
   "outputs": [
    {
     "ename": "AttributeError",
     "evalue": "'numpy.ndarray' object has no attribute 'head'",
     "output_type": "error",
     "traceback": [
      "\u001b[1;31m---------------------------------------------------------------------------\u001b[0m",
      "\u001b[1;31mAttributeError\u001b[0m                            Traceback (most recent call last)",
      "\u001b[1;32mc:\\Users\\melih\\OneDrive\\Desktop\\data\\main.ipynb Cell 4'\u001b[0m in \u001b[0;36m<cell line: 11>\u001b[1;34m()\u001b[0m\n\u001b[0;32m      <a href='vscode-notebook-cell:/c%3A/Users/melih/OneDrive/Desktop/data/main.ipynb#ch0000005?line=8'>9</a>\u001b[0m enc \u001b[39m=\u001b[39m OrdinalEncoder()\n\u001b[0;32m     <a href='vscode-notebook-cell:/c%3A/Users/melih/OneDrive/Desktop/data/main.ipynb#ch0000005?line=9'>10</a>\u001b[0m x \u001b[39m=\u001b[39m enc\u001b[39m.\u001b[39mfit_transform(x)\n\u001b[1;32m---> <a href='vscode-notebook-cell:/c%3A/Users/melih/OneDrive/Desktop/data/main.ipynb#ch0000005?line=10'>11</a>\u001b[0m \u001b[39mprint\u001b[39m(x\u001b[39m.\u001b[39;49mhead())\n",
      "\u001b[1;31mAttributeError\u001b[0m: 'numpy.ndarray' object has no attribute 'head'"
     ]
    }
   ],
   "source": [
    "y = df[:,0]\n",
    "x = gaussian\n",
    "\n",
    "model = CategoricalNB()\n",
    "\n",
    "enc = LabelEncoder()\n",
    "y = enc.fit_transform(y)\n",
    "\n",
    "enc = OrdinalEncoder()\n",
    "x = enc.fit_transform(x)\n",
    "print(x.head())"
   ]
  },
  {
   "cell_type": "code",
   "execution_count": null,
   "metadata": {},
   "outputs": [],
   "source": [
    "x_train, x_test, y_train, y_test = train_test_split(x, y, test_size=0.15)\n",
    "\n",
    "model.fit(x_train, y_train)\n",
    "\n",
    "y_pred = model.predict(x_test)"
   ]
  },
  {
   "cell_type": "code",
   "execution_count": null,
   "metadata": {},
   "outputs": [
    {
     "name": "stdout",
     "output_type": "stream",
     "text": [
      "CategoricalNB()\n",
      "--------------------------------------------------------\n",
      "Classification Report:\n",
      "\n",
      "               precision    recall  f1-score   support\n",
      "\n",
      "          No       0.91      1.00      0.96     43880\n",
      "         Yes       0.00      0.00      0.00      4090\n",
      "\n",
      "    accuracy                           0.91     47970\n",
      "   macro avg       0.46      0.50      0.48     47970\n",
      "weighted avg       0.84      0.91      0.87     47970\n",
      "\n",
      "--------------------------------------------------------\n",
      "Confusion Matrix:\n",
      "\n",
      " [[43880     0]\n",
      " [ 4090     0]]\n"
     ]
    },
    {
     "name": "stderr",
     "output_type": "stream",
     "text": [
      "c:\\Users\\melih\\AppData\\Local\\Programs\\Python\\Python310\\lib\\site-packages\\sklearn\\metrics\\_classification.py:1318: UndefinedMetricWarning: Precision and F-score are ill-defined and being set to 0.0 in labels with no predicted samples. Use `zero_division` parameter to control this behavior.\n",
      "  _warn_prf(average, modifier, msg_start, len(result))\n",
      "c:\\Users\\melih\\AppData\\Local\\Programs\\Python\\Python310\\lib\\site-packages\\sklearn\\metrics\\_classification.py:1318: UndefinedMetricWarning: Precision and F-score are ill-defined and being set to 0.0 in labels with no predicted samples. Use `zero_division` parameter to control this behavior.\n",
      "  _warn_prf(average, modifier, msg_start, len(result))\n",
      "c:\\Users\\melih\\AppData\\Local\\Programs\\Python\\Python310\\lib\\site-packages\\sklearn\\metrics\\_classification.py:1318: UndefinedMetricWarning: Precision and F-score are ill-defined and being set to 0.0 in labels with no predicted samples. Use `zero_division` parameter to control this behavior.\n",
      "  _warn_prf(average, modifier, msg_start, len(result))\n"
     ]
    }
   ],
   "source": [
    "print(model)\n",
    "print('--------------------------------------------------------')\n",
    "print('Classification Report:\\n\\n', classification_report(y_test, y_pred, target_names=['No','Yes']))\n",
    "print('--------------------------------------------------------')\n",
    "print('Confusion Matrix:\\n\\n', confusion_matrix(y_test, y_pred))"
   ]
  }
 ],
 "metadata": {
  "interpreter": {
   "hash": "31114ee4c0a5c1652c3f229edfa0c825ea27b625704175c6f57d7152219a4654"
  },
  "kernelspec": {
   "display_name": "Python 3.10.4 64-bit",
   "language": "python",
   "name": "python3"
  },
  "language_info": {
   "codemirror_mode": {
    "name": "ipython",
    "version": 3
   },
   "file_extension": ".py",
   "mimetype": "text/x-python",
   "name": "python",
   "nbconvert_exporter": "python",
   "pygments_lexer": "ipython3",
   "version": "3.10.4"
  },
  "orig_nbformat": 4
 },
 "nbformat": 4,
 "nbformat_minor": 2
}
