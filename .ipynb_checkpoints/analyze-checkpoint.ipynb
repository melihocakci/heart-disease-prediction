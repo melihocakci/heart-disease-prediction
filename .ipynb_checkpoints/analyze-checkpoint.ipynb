{
 "cells": [
  {
   "cell_type": "code",
   "execution_count": null,
   "metadata": {},
   "outputs": [],
   "source": [
    "import pandas as pd # for data manipulation\n",
    "import numpy as np\n",
    "\n",
    "import matplotlib.pyplot as plt\n",
    "from matplotlib import style"
   ]
  },
  {
   "cell_type": "code",
   "execution_count": null,
   "metadata": {},
   "outputs": [],
   "source": [
    "df = pd.read_csv('heart_2020_cleaned.csv')"
   ]
  },
  {
   "cell_type": "code",
   "execution_count": null,
   "metadata": {},
   "outputs": [],
   "source": [
    "print(df.info())"
   ]
  },
  {
   "cell_type": "code",
   "execution_count": null,
   "metadata": {},
   "outputs": [],
   "source": [
    "plt.clf()\n",
    "\n",
    "plt.style.use('fivethirtyeight')\n",
    "\n",
    "heartdis = len(df.query(\"HeartDisease == 'Yes'\").index)\n",
    "noheartdis = len(df.query(\"HeartDisease == 'No'\").index)\n",
    "\n",
    "plt.figure(dpi=100)\n",
    "\n",
    "#plt.bar()\n",
    "plt.bar('non-diseased', noheartdis)\n",
    "plt.bar('diseased', heartdis)\n",
    "#plt.bar(['has heart disease', 'no heart disease'], [heartdis, noheartdis])\n",
    "\n",
    "plt.ylabel('quantity')\n",
    "\n",
    "plt.savefig('fig/heartdis.png', bbox_inches='tight')\n",
    "plt.show()\n",
    "\n",
    "plt.clf()"
   ]
  },
  {
   "cell_type": "code",
   "execution_count": null,
   "metadata": {},
   "outputs": [],
   "source": [
    "plt.style.use('fivethirtyeight')\n",
    "\n",
    "smoker = df.query(\"Smoking == 'Yes'\")\n",
    "nonsmoker = df.query(\"Smoking == 'No'\")\n",
    "\n",
    "smokerratio = len(smoker.query(\"HeartDisease == 'Yes'\").index) / len(smoker.index)\n",
    "nonsmokerratio = len(nonsmoker.query(\"HeartDisease == 'Yes'\").index) / len(nonsmoker.index)\n",
    "\n",
    "plt.figure(dpi=100)\n",
    "\n",
    "plt.bar('non-smoker', nonsmokerratio)\n",
    "plt.bar('smoker', smokerratio)\n",
    "#plt.bar(['smoker', 'non-smoker'], [smokerratio, nonsmokerratio])\n",
    "\n",
    "plt.ylabel('heart disease rate')\n",
    "\n",
    "plt.savefig('fig/smoker.png', bbox_inches='tight')\n",
    "plt.show()\n",
    "\n",
    "plt.clf()"
   ]
  },
  {
   "cell_type": "code",
   "execution_count": null,
   "metadata": {},
   "outputs": [],
   "source": [
    "plt.style.use('fivethirtyeight')\n",
    "\n",
    "drinker = df.query(\"AlcoholDrinking == 'Yes'\")\n",
    "nondrinker = df.query(\"AlcoholDrinking == 'No'\")\n",
    "\n",
    "drinkerratio = len(drinker.query(\"HeartDisease == 'Yes'\").index) / len(drinker.index)\n",
    "nondrinkerratio = len(nondrinker.query(\"HeartDisease == 'Yes'\").index) / len(nondrinker.index)\n",
    "\n",
    "plt.figure(dpi=100)\n",
    "\n",
    "plt.bar('non-drinker', nondrinkerratio)\n",
    "plt.bar('drinker', drinkerratio)\n",
    "#plt.bar(['drinks alcohol', 'does not drink alcohol'], [drinkerratio, nondrinkerratio])\n",
    "\n",
    "plt.ylabel('heart disease rate')\n",
    "\n",
    "plt.savefig('fig/drinker.png', bbox_inches='tight')\n",
    "plt.show()\n",
    "\n",
    "plt.clf()"
   ]
  }
 ],
 "metadata": {
  "interpreter": {
   "hash": "31114ee4c0a5c1652c3f229edfa0c825ea27b625704175c6f57d7152219a4654"
  },
  "kernelspec": {
   "display_name": "Python 3 (ipykernel)",
   "language": "python",
   "name": "python3"
  },
  "language_info": {
   "codemirror_mode": {
    "name": "ipython",
    "version": 3
   },
   "file_extension": ".py",
   "mimetype": "text/x-python",
   "name": "python",
   "nbconvert_exporter": "python",
   "pygments_lexer": "ipython3",
   "version": "3.10.4"
  }
 },
 "nbformat": 4,
 "nbformat_minor": 2
}
